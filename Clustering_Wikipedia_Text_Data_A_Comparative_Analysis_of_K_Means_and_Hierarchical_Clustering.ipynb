{
  "nbformat": 4,
  "nbformat_minor": 0,
  "metadata": {
    "colab": {
      "provenance": [],
      "include_colab_link": true
    },
    "kernelspec": {
      "name": "python3",
      "display_name": "Python 3"
    },
    "language_info": {
      "name": "python"
    }
  },
  "cells": [
    {
      "cell_type": "markdown",
      "metadata": {
        "id": "view-in-github",
        "colab_type": "text"
      },
      "source": [
        "<a href=\"https://colab.research.google.com/github/wanjas1/Clustering-Wikipedia-Text-Data-A-Comparative-Analysis-of-K-Means-and-Hierarchical-Clustering/blob/main/Clustering_Wikipedia_Text_Data_A_Comparative_Analysis_of_K_Means_and_Hierarchical_Clustering.ipynb\" target=\"_parent\"><img src=\"https://colab.research.google.com/assets/colab-badge.svg\" alt=\"Open In Colab\"/></a>"
      ]
    },
    {
      "cell_type": "code",
      "source": [
        "# @title Full Name { run: \"auto\" }\n",
        "Name = 'Sharomith Wanja' # @param {type:\"string\", placeholder:\"Enter Full Name\"}\n",
        "print(\"Name:\", Name)"
      ],
      "metadata": {
        "id": "Mh7VyV4MAvJJ",
        "colab": {
          "base_uri": "https://localhost:8080/"
        },
        "outputId": "4323f0c8-5c5a-4e60-e427-09d515a268f3"
      },
      "execution_count": 5,
      "outputs": [
        {
          "output_type": "stream",
          "name": "stdout",
          "text": [
            "Name: Sharomith Wanja\n"
          ]
        }
      ]
    },
    {
      "cell_type": "markdown",
      "source": [
        "# **Clustering Wikipedia Text Data: A Comparative Analysis of K-Means and Hierarchical Clustering**"
      ],
      "metadata": {
        "id": "a01cJCW6DVj0"
      }
    },
    {
      "cell_type": "markdown",
      "source": [
        "**Project Overview**\n",
        "\n",
        "This project explores text clustering techniques using web-based content retrieved from Wikipedia. The dataset consists of 40 Wikipedia pages categorized into four general topics: artificial intelligence, sports, college majors/courses, and animals. The goal is to apply unsupervised machine learning methods to analyze the underlying structure of the textual data and evaluate how well clustering techniques can organize documents into their expected topical groups."
      ],
      "metadata": {
        "id": "1gTonY7gAVE8"
      }
    },
    {
      "cell_type": "markdown",
      "source": [
        "## Prerequisite Code"
      ],
      "metadata": {
        "id": "1NApcFUYjX8g"
      }
    },
    {
      "cell_type": "code",
      "source": [
        "!pip install wikipedia\n",
        "import wikipedia\n",
        "import pandas as pd\n",
        "import matplotlib.pyplot as plt\n",
        "from sklearn.feature_extraction.text import TfidfVectorizer\n",
        "from sklearn.cluster import KMeans, AgglomerativeClustering\n",
        "from scipy.cluster.hierarchy import ward, dendrogram\n",
        "from sklearn.metrics.pairwise import cosine_similarity"
      ],
      "metadata": {
        "id": "6_VVawXTjbJO",
        "colab": {
          "base_uri": "https://localhost:8080/"
        },
        "outputId": "fcf68cf7-97aa-43f7-8864-0e094bbb1623"
      },
      "execution_count": 1,
      "outputs": [
        {
          "output_type": "stream",
          "name": "stdout",
          "text": [
            "Collecting wikipedia\n",
            "  Downloading wikipedia-1.4.0.tar.gz (27 kB)\n",
            "  Preparing metadata (setup.py) ... \u001b[?25l\u001b[?25hdone\n",
            "Requirement already satisfied: beautifulsoup4 in /usr/local/lib/python3.11/dist-packages (from wikipedia) (4.13.3)\n",
            "Requirement already satisfied: requests<3.0.0,>=2.0.0 in /usr/local/lib/python3.11/dist-packages (from wikipedia) (2.32.3)\n",
            "Requirement already satisfied: charset-normalizer<4,>=2 in /usr/local/lib/python3.11/dist-packages (from requests<3.0.0,>=2.0.0->wikipedia) (3.4.1)\n",
            "Requirement already satisfied: idna<4,>=2.5 in /usr/local/lib/python3.11/dist-packages (from requests<3.0.0,>=2.0.0->wikipedia) (3.10)\n",
            "Requirement already satisfied: urllib3<3,>=1.21.1 in /usr/local/lib/python3.11/dist-packages (from requests<3.0.0,>=2.0.0->wikipedia) (2.3.0)\n",
            "Requirement already satisfied: certifi>=2017.4.17 in /usr/local/lib/python3.11/dist-packages (from requests<3.0.0,>=2.0.0->wikipedia) (2025.1.31)\n",
            "Requirement already satisfied: soupsieve>1.2 in /usr/local/lib/python3.11/dist-packages (from beautifulsoup4->wikipedia) (2.6)\n",
            "Requirement already satisfied: typing-extensions>=4.0.0 in /usr/local/lib/python3.11/dist-packages (from beautifulsoup4->wikipedia) (4.12.2)\n",
            "Building wheels for collected packages: wikipedia\n",
            "  Building wheel for wikipedia (setup.py) ... \u001b[?25l\u001b[?25hdone\n",
            "  Created wheel for wikipedia: filename=wikipedia-1.4.0-py3-none-any.whl size=11679 sha256=fc803bbe54ae7ef997ddbcade552d3114eb066f55a0635c181cc5ab8d2ee73bb\n",
            "  Stored in directory: /root/.cache/pip/wheels/8f/ab/cb/45ccc40522d3a1c41e1d2ad53b8f33a62f394011ec38cd71c6\n",
            "Successfully built wikipedia\n",
            "Installing collected packages: wikipedia\n",
            "Successfully installed wikipedia-1.4.0\n"
          ]
        }
      ]
    },
    {
      "cell_type": "markdown",
      "source": [
        "\n",
        "\n",
        "---\n",
        "\n"
      ],
      "metadata": {
        "id": "dd2WmJKtn_z3"
      }
    },
    {
      "cell_type": "markdown",
      "source": [
        "\n",
        "1.  First, create the topics object. Then, develop a dataset containing the content from the respective Wikipedia pages and prepare the TF-IDF-weighted Document Term Matrix.\n"
      ],
      "metadata": {
        "id": "pirkUREjEHAe"
      }
    },
    {
      "cell_type": "code",
      "source": [
        "topics = ['data science','business analytics', 'artificial intelligence','computational statistics', 'linguistics', 'expert systems', 'natural language processing', 'motion analysis', 'basketball', 'swimming','diving', 'baseball', 'football', 'soccer', 'hockey', 'gymnastics', 'lacrosse', 'operations management', 'marketing', 'economics', 'mathematics', 'biology', 'chemistry', 'statistics', 'computer science', 'engineering', 'zebra', 'dolphin', 'whale', 'horse', 'sheep', 'monkey', 'kangaroo', 'leopard', 'tiger', 'wolf', 'snake', 'frog', 'hedgehog']"
      ],
      "metadata": {
        "id": "T9-5ebRAdynQ"
      },
      "execution_count": 2,
      "outputs": []
    },
    {
      "cell_type": "code",
      "metadata": {
        "id": "_cSFtMtMsn6x",
        "colab": {
          "base_uri": "https://localhost:8080/"
        },
        "outputId": "a839ff73-a374-4e33-c6bf-6a20cda65af6"
      },
      "source": [
        "# initialize the list\n",
        "wiki_lst=[]\n",
        "\n",
        "# Iterage through the list of topics, retrieve Wiki pages corresponding to each\n",
        "# and add them to a list\n",
        "for topic in topics:\n",
        "   print(\"retrieving: \", topic)\n",
        "   wiki_lst.append(wikipedia.page(topic).content)"
      ],
      "execution_count": 3,
      "outputs": [
        {
          "output_type": "stream",
          "name": "stdout",
          "text": [
            "retrieving:  data science\n",
            "retrieving:  business analytics\n",
            "retrieving:  artificial intelligence\n",
            "retrieving:  computational statistics\n",
            "retrieving:  linguistics\n",
            "retrieving:  expert systems\n",
            "retrieving:  natural language processing\n",
            "retrieving:  motion analysis\n",
            "retrieving:  basketball\n",
            "retrieving:  swimming\n",
            "retrieving:  diving\n",
            "retrieving:  baseball\n",
            "retrieving:  football\n",
            "retrieving:  soccer\n",
            "retrieving:  hockey\n",
            "retrieving:  gymnastics\n",
            "retrieving:  lacrosse\n",
            "retrieving:  operations management\n",
            "retrieving:  marketing\n",
            "retrieving:  economics\n",
            "retrieving:  mathematics\n",
            "retrieving:  biology\n",
            "retrieving:  chemistry\n",
            "retrieving:  statistics\n",
            "retrieving:  computer science\n",
            "retrieving:  engineering\n",
            "retrieving:  zebra\n",
            "retrieving:  dolphin\n",
            "retrieving:  whale\n",
            "retrieving:  horse\n",
            "retrieving:  sheep\n",
            "retrieving:  monkey\n",
            "retrieving:  kangaroo\n",
            "retrieving:  leopard\n",
            "retrieving:  tiger\n",
            "retrieving:  wolf\n",
            "retrieving:  snake\n",
            "retrieving:  frog\n",
            "retrieving:  hedgehog\n"
          ]
        }
      ]
    },
    {
      "cell_type": "markdown",
      "source": [
        "\n",
        "\n",
        "---\n",
        "\n",
        "<br>\n",
        "\n",
        "2. Perform elbow analysis on the TF-IDF vectorized dataset. In your plot, consider a minimum of 2 clusters and a maximum of 15 clusters. For reproducible results, set the `random_state` argument in `KMeans()` to 123."
      ],
      "metadata": {
        "id": "PzXk7L--EUn8"
      }
    },
    {
      "cell_type": "code",
      "source": [
        "vectorizer = TfidfVectorizer(stop_words = 'english')\n",
        "X = vectorizer.fit_transform(wiki_lst)\n",
        "\n",
        "Sum_of_squared_distances = []\n",
        "K = range(2,16)\n",
        "for k in K:\n",
        "   km = KMeans(n_clusters=k, max_iter=200, n_init=10, random_state=123)\n",
        "   km = km.fit(X)\n",
        "   Sum_of_squared_distances.append(km.inertia_)\n",
        "plt.plot(K, Sum_of_squared_distances, 'bx-')\n",
        "plt.xlabel('k')\n",
        "plt.ylabel('Sum_of_squared_distances')\n",
        "plt.title('Elbow Method For Optimal k')\n",
        "plt.show()"
      ],
      "metadata": {
        "id": "OZUYPM-BEar8",
        "colab": {
          "base_uri": "https://localhost:8080/",
          "height": 472
        },
        "outputId": "66292ab3-a012-4db2-8db2-77744347bc5e"
      },
      "execution_count": 4,
      "outputs": [
        {
          "output_type": "display_data",
          "data": {
            "text/plain": [
              "<Figure size 640x480 with 1 Axes>"
            ],
            "image/png": "[encoded data removed]"
          },
          "metadata": {}
        }
      ]
    },
    {
      "cell_type": "markdown",
      "source": [
        "Based on this plot, there isn’t a distinct elbow point that indicates an optimal value for k, making it difficult to determine an ideal number of clusters.\n",
        "\n",
        "Typically, k would be marked by a clear elbow to show that additional clusters can no longer reduce the sum of squared distances.In this case, the plot shows a steady decline without a noticeable elbow, suggesting that the text data in these Wikipedia pages may have overlapping features across categories, making them harder to group into distinct clusters solely based on TF-IDF features.\n",
        "\n",
        "Additionally, since we do not have a pronounced elbow point at k=4, this result does not align with the expected clustering of 4 general topic groups (artificial intelligence, sports, college courses/majors, and animals)."
      ],
      "metadata": {
        "id": "izbgWr16-rVt"
      }
    },
    {
      "cell_type": "markdown",
      "source": [
        "<hr>\n",
        "<br>\n",
        "\n",
        "3. Develop a KMeans clustering solution using the expected number of groups as k."
      ],
      "metadata": {
        "id": "holx0VloEbMz"
      }
    },
    {
      "cell_type": "code",
      "source": [
        "true_k = 4\n",
        "model = KMeans(n_clusters=true_k, init='k-means++', max_iter=200, n_init=10, random_state=123)\n",
        "model.fit(X)\n",
        "\n",
        "\n",
        "labels=model.labels_\n",
        "wiki_cl=pd.DataFrame(list(zip(topics,labels)),columns=['topics','cluster'])\n",
        "print(wiki_cl.sort_values(by=['cluster']))"
      ],
      "metadata": {
        "id": "3pBku3fEEggf",
        "colab": {
          "base_uri": "https://localhost:8080/"
        },
        "outputId": "060cb913-f0c9-4352-9ac0-9a9d15f0781e"
      },
      "execution_count": 5,
      "outputs": [
        {
          "output_type": "stream",
          "name": "stdout",
          "text": [
            "                         topics  cluster\n",
            "0                  data science        0\n",
            "3      computational statistics        0\n",
            "6   natural language processing        0\n",
            "24             computer science        0\n",
            "23                   statistics        0\n",
            "20                  mathematics        0\n",
            "35                         wolf        1\n",
            "31                       monkey        1\n",
            "29                        horse        1\n",
            "26                        zebra        1\n",
            "25                  engineering        1\n",
            "22                    chemistry        1\n",
            "21                      biology        1\n",
            "18                    marketing        1\n",
            "17        operations management        1\n",
            "19                    economics        1\n",
            "2       artificial intelligence        1\n",
            "4                   linguistics        1\n",
            "1            business analytics        1\n",
            "10                       diving        1\n",
            "9                      swimming        1\n",
            "5                expert systems        1\n",
            "7               motion analysis        1\n",
            "16                     lacrosse        2\n",
            "30                        sheep        2\n",
            "15                   gymnastics        2\n",
            "8                    basketball        2\n",
            "11                     baseball        2\n",
            "12                     football        2\n",
            "13                       soccer        2\n",
            "14                       hockey        2\n",
            "33                      leopard        2\n",
            "36                        snake        3\n",
            "34                        tiger        3\n",
            "27                      dolphin        3\n",
            "28                        whale        3\n",
            "37                         frog        3\n",
            "32                     kangaroo        3\n",
            "38                     hedgehog        3\n"
          ]
        }
      ]
    },
    {
      "cell_type": "markdown",
      "source": [
        "The KMeans clustering solution does not fully align with the expected cluster memberships for the documents. This is because we anticipated that the documents would naturally cluster into four distinct groups corresponding to the four general topics. However, the results revealed some overlap between categories.\n",
        "\n",
        "For instance, documents related to animals, such as 'leopard', are grouped together with sports-related topics like 'hockey' within cluster 2. Similarly, certain course majors such as 'business analytics' which we would expect to cluster separately are instead grouped with unrelated topics such as 'diving' in cluster 1."
      ],
      "metadata": {
        "id": "-MMPo4bt3Ude"
      }
    },
    {
      "cell_type": "markdown",
      "source": [
        "<hr>"
      ],
      "metadata": {
        "id": "xpizOBQ0oX24"
      }
    },
    {
      "cell_type": "markdown",
      "source": [
        "*4*. Next, we perform hierachical clustering. By default, `AgglomerativeClustering()` sets k = 2 (`n_clusters = 2`). Instead, set the `n_clusters` argument equal to the expected number of clusters.\n",
        "\n",
        "View cluster membership output as a dataframe."
      ],
      "metadata": {
        "id": "NIEXdhgCEhN0"
      }
    },
    {
      "cell_type": "code",
      "source": [
        "agg_clustering = AgglomerativeClustering(n_clusters=4)\n",
        "cluster_labels = agg_clustering.fit_predict(X.toarray())\n",
        "\n",
        "# Convert the cluster labels to a df\n",
        "cluster_df = pd.DataFrame({\n",
        "    'Topic': topics,\n",
        "    'Cluster': cluster_labels\n",
        "})\n",
        "\n",
        "print(cluster_df)"
      ],
      "metadata": {
        "id": "xWAbl6aY3gX2",
        "colab": {
          "base_uri": "https://localhost:8080/"
        },
        "outputId": "feb110da-c5a9-48b1-b1cf-1c0993e08b5d"
      },
      "execution_count": 6,
      "outputs": [
        {
          "output_type": "stream",
          "name": "stdout",
          "text": [
            "                          Topic  Cluster\n",
            "0                  data science        2\n",
            "1            business analytics        0\n",
            "2       artificial intelligence        0\n",
            "3      computational statistics        2\n",
            "4                   linguistics        0\n",
            "5                expert systems        0\n",
            "6   natural language processing        0\n",
            "7               motion analysis        1\n",
            "8                    basketball        3\n",
            "9                      swimming        1\n",
            "10                       diving        1\n",
            "11                     baseball        3\n",
            "12                     football        3\n",
            "13                       soccer        3\n",
            "14                       hockey        3\n",
            "15                   gymnastics        1\n",
            "16                     lacrosse        3\n",
            "17        operations management        0\n",
            "18                    marketing        0\n",
            "19                    economics        0\n",
            "20                  mathematics        2\n",
            "21                      biology        1\n",
            "22                    chemistry        1\n",
            "23                   statistics        2\n",
            "24             computer science        2\n",
            "25                  engineering        2\n",
            "26                        zebra        1\n",
            "27                      dolphin        1\n",
            "28                        whale        1\n",
            "29                        horse        1\n",
            "30                        sheep        1\n",
            "31                       monkey        0\n",
            "32                     kangaroo        1\n",
            "33                      leopard        1\n",
            "34                        tiger        1\n",
            "35                         wolf        1\n",
            "36                        snake        1\n",
            "37                         frog        1\n",
            "38                     hedgehog        1\n"
          ]
        }
      ]
    },
    {
      "cell_type": "markdown",
      "source": [
        "**Key Insights**"
      ],
      "metadata": {
        "id": "YFn0SheMAJsE"
      }
    },
    {
      "cell_type": "markdown",
      "source": [
        "The clusters created using hierarchical cluster analysis do not align with the expected 4 groups.\n",
        "\n",
        "For example:\n",
        "\n",
        "a.)'Biology' which belongs to a course/major is grouped in the same cluster as 'swimming', a sports-related topic.\n",
        "\n",
        "b.) 'Economics' which is an academic course is clustered together with 'monkey' which is an animal.\n",
        "\n",
        "These examples suggest that further preprocessing or steps in feature extraction might be needed to achieve better alignment with the expected topic groups.\n"
      ],
      "metadata": {
        "id": "Mpq-P-jxEpMC"
      }
    },
    {
      "cell_type": "markdown",
      "source": [
        "<hr>"
      ],
      "metadata": {
        "id": "jNYipvJQonwZ"
      }
    }
  ]
}